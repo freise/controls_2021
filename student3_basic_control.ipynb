{
 "metadata": {
  "language_info": {
   "codemirror_mode": {
    "name": "ipython",
    "version": 3
   },
   "file_extension": ".py",
   "mimetype": "text/x-python",
   "name": "python",
   "nbconvert_exporter": "python",
   "pygments_lexer": "ipython3",
   "version": "3.9.2"
  },
  "orig_nbformat": 2,
  "kernelspec": {
   "name": "python392jvsc74a57bd034ea34a95fc8c860ea654946bc3d2ac20d836af5fba6f8cd5c2350e7aac8e38e",
   "display_name": "Python 3.9.2 64-bit ('copter': conda)"
  }
 },
 "nbformat": 4,
 "nbformat_minor": 2,
 "cells": [
  {
   "source": [
    "# Topical Lectures April 2021\n",
    "## Drone control, part 3: basic control\n",
    "Andreas Freise, Bas Swinkels 13.04.2021\n",
    "\n",
    "In this notebook, we will, step by step, develop the control for the drone. We will define and test functions that take position and velocity information from the drone and compute `feedback' signals, i.e. new voltages for both drone motors."
   ],
   "cell_type": "markdown",
   "metadata": {}
  },
  {
   "cell_type": "code",
   "execution_count": null,
   "metadata": {},
   "outputs": [],
   "source": [
    "import numpy as np\n",
    "import matplotlib.pyplot as plt\n",
    "import time\n",
    "import module\n",
    "import warnings\n",
    "warnings.filterwarnings(\"ignore\", category=DeprecationWarning) \n",
    "\n",
    "# This time we want inline plotting (non-interactive)\n",
    "%matplotlib inline\n",
    "\n",
    "# Don't forget to set the name string to your own name\n",
    "MyName = "
   ]
  },
  {
   "source": [
    "First we can write a utiity function that uses the parameters from the system identificaition tasks in order to compensate for the small differences between different drones. Bu using this function to apply our feedback signal, we should be able to write control functions ignoring these details."
   ],
   "cell_type": "markdown",
   "metadata": {}
  },
  {
   "cell_type": "code",
   "execution_count": null,
   "metadata": {},
   "outputs": [],
   "source": [
    "# we apply the drone parameters found in the system identification task\n",
    "V_left_offset=\n",
    "V_hover=\n",
    "V_max=\n",
    "V_min=\n",
    "\n",
    "# This function take voltages for the left and right rotor and applies the previously \n",
    "# measured parameters for corrections such that for V_left-V_right=0 we have a \n",
    "# balanced and hovering drone.\n",
    "# Note that the naive clipping of the feedback signal at V_min and V_max might not\n",
    "# be the best solution for more advanced control loops, but it should work for now.\n",
    "def set_v(drone, _V_left, _V_right):\n",
    "    V_left =  np.clip(V_hover + _V_left + V_left_offset, V_min, V_max)\n",
    "    V_right = np.clip(V_hover + _V_right, V_min, V_max)\n",
    "    drone.set_V(V_left, V_right)"
   ]
  },
  {
   "source": [
    "Now we want to develop the control systems for the drone.\n",
    "\n",
    "We will need several levels of control loops that we can develop in sequence:\n",
    "- tilt control for stabilising the angle to a user-defined value\n",
    "- hover control for moving the drone up or down to a set altitude\n",
    "- control for the left-right motion of the drone. This loop must use the tilt control as it's `actuator'.\n",
    "\n",
    "For the control design we switch on wind (```wind=True```), because this makes it easier to see if our controls are having an effect.\n",
    "\n",
    "# Tilt control\n",
    "\n",
    "At first we can write another utility function that takes as in input the desired feedback in vertical direction and for tilt and returns the voltages for the individual rotors, for example like this:"
   ],
   "cell_type": "markdown",
   "metadata": {}
  },
  {
   "cell_type": "code",
   "execution_count": null,
   "metadata": {},
   "outputs": [],
   "source": [
    "# Convert vertical and tilt feedback signal into V_left and V_right\n",
    "# Again this simple signal combination might not always be optimal but\n",
    "# good for getting started.\n",
    "def zphi2V(fb_z, fb_phi):\n",
    "    V_left = fb_z + fb_phi\n",
    "    V_right = fb_z - fb_phi\n",
    "    return V_left, V_right"
   ]
  },
  {
   "source": [
    "Now we can define a function that generates the feedback signal for tilt.\n",
    "\n",
    "## Proportioanal feedback\n",
    "\n",
    "At first we will try proportional conttrol: we can measure the difference between the current tilt angle ```phi``` and the set angle ```phi0```, and provide feedback which is proportional to that distance. This sounds good, we will have a larger signal the further we are away from the set point, and when we are at the set point, the feedback will become zero."
   ],
   "cell_type": "markdown",
   "metadata": {}
  },
  {
   "cell_type": "code",
   "execution_count": null,
   "metadata": {},
   "outputs": [],
   "source": [
    "# Proportional feedback\n",
    "def phi_proportional_feedback(phi, phi0):\n",
    "    # phi: current tilt of the drone [rad]\n",
    "    # phi0: desired tilt of the drone [rad]\n",
    "    p = 10 # the so-called 'proportional gain' of the controller\n",
    "    fb = (phi-phi0) * p # feedback signal\n",
    "    return fb"
   ]
  },
  {
   "cell_type": "code",
   "execution_count": null,
   "metadata": {},
   "outputs": [],
   "source": [
    "# testing our new feedback function\n",
    "\n",
    "drone = module.Drone(name=MyName, wind=True, flight_range=[0,0,0,0])\n",
    "N = 300 \n",
    "results = np.zeros([N,14])\n",
    "V_left=0\n",
    "V_right=0\n",
    "phi0=np.deg2rad(20)\n",
    "set_v(drone,V_left,V_right)\n",
    "\n",
    "for i in range(N):\n",
    "    results[i,0:12] = drone.update()\n",
    "    results[i,12:14] = [V_left,V_right]\n",
    "    phi = results[i,3]\n",
    "    dphi = results[i,6]\n",
    "    phi_fb = phi_proportional_feedback(phi,phi0)\n",
    "    V_left, V_right = zphi2V(0, phi_fb)\n",
    "    set_v(drone,V_left, V_right)"
   ]
  },
  {
   "cell_type": "code",
   "execution_count": null,
   "metadata": {},
   "outputs": [],
   "source": [
    "start=0\n",
    "t = results[start:,0]\n",
    "y = results[start:,1]\n",
    "z = results[start:,2]\n",
    "phi = results[start:,3]\n",
    "dphi = results[start:,6]\n",
    "fig, ax = plt.subplots(1, figsize=(12,6))\n",
    "plt.plot(np.rad2deg(phi), 'b', label=\"phi\")\n",
    "ax.set_xlabel(\"t [s]\")\n",
    "ax.set_ylabel(\"a.u.\")\n",
    "plt.grid()\n",
    "plt.legend()\n",
    "plt.tight_layout()"
   ]
  },
  {
   "source": [
    "We can see that the drone angle is oscillation around the set point `phi0'. You should play with the proportional gain ```p``` to see how the behaviour of the loop changes with the gain.\n",
    "\n",
    "Even without knowing much about PID controllers, we can guess that our feedback loop is missing a **damping** term. This is something we can add easily, because the drone reports its velocity.\n",
    "\n",
    "## Proportional feedback with damping"
   ],
   "cell_type": "markdown",
   "metadata": {}
  },
  {
   "cell_type": "code",
   "execution_count": null,
   "metadata": {},
   "outputs": [],
   "source": [
    "# Damped proportional feedback\n",
    "def phi_damped_feedback(phi, dphi, phi0):\n",
    "    p =  # p for proportional gain\n",
    "    d =  # d for differential gain\n",
    "    fb = (phi-phi0) * p + d * dphi\n",
    "    return fb"
   ]
  },
  {
   "cell_type": "code",
   "execution_count": null,
   "metadata": {},
   "outputs": [],
   "source": [
    "drone = module.Drone(name=MyName, wind=True, flight_range=[0,0,0,0])\n"
   ]
  },
  {
   "cell_type": "code",
   "execution_count": null,
   "metadata": {},
   "outputs": [],
   "source": []
  },
  {
   "source": [
    "Much better! The control can be optimised by changed the two gains ```p``` and ```d``` such that the drone reaches the set point ```phi0``` in the shortest amount of time without any overshoot. This is similar to applying critical damping in an oscillator.\n",
    "\n",
    "With this loop we can already achieve a very good response of the drone. For this loop there is no apparent need to add an **integrator** (the `I' in PID). However, we will see where this could be usefil in the vertical control below.\n",
    "\n",
    "# Vertical control\n",
    "\n",
    "Next we want to design a loop that holds the drone at a set vertical position ```z0```. We already know that we need at least a damped feedback function. We can relax the clamping of the drone by using a ```flight_range``` of ```[0, -500, 0, 500]``` which allows the drone up and down but no sideways motion. We must keep the tilt control enaged however. Make sure to experiment with large values for ```z0```."
   ],
   "cell_type": "markdown",
   "metadata": {}
  },
  {
   "cell_type": "code",
   "execution_count": null,
   "metadata": {},
   "outputs": [],
   "source": [
    "# tilt feedback loop\n",
    "def phi_damped_feedback(phi, dphi, phi0):\n",
    "    p = \n",
    "    d =  \n",
    "    fb = (phi-phi0) * p + d * dphi\n",
    "    return fb\n",
    "\n",
    "# vertical feedback loop\n",
    "def z_damped_feedback(z, dz, z0):\n",
    "    p = \n",
    "    d = \n",
    "    fb = (z-z0) * p - d * dz\n",
    "    return fb"
   ]
  },
  {
   "cell_type": "code",
   "execution_count": null,
   "metadata": {},
   "outputs": [],
   "source": [
    "drone = module.Drone(name=MyName, wind=True, flight_range=[0,-500,0,500])\n"
   ]
  },
  {
   "cell_type": "code",
   "execution_count": null,
   "metadata": {},
   "outputs": [],
   "source": []
  },
  {
   "source": [
    "After playing around with the gains you should be able to control the z position quickly, similar to the angle above.\n",
    "\n",
    "The next part is optional. If you want, you can also go directly to the next part: `cascaded control`.\n",
    "\n",
    "# Optional: integrator control \n",
    "If you want to explore more control options, the vertical control can be a good example for the testing the integretor part in a control loop. Use the alternative ```set_vnohover``` function that does not include the ```V_hover``` offset and then run the same control function again:"
   ],
   "cell_type": "markdown",
   "metadata": {}
  },
  {
   "cell_type": "code",
   "execution_count": null,
   "metadata": {},
   "outputs": [],
   "source": [
    "def set_v_nohover(drone, _V_left, _V_right):\n",
    "    V_left =  np.clip(_V_left + V_left_offset, V_min, V_max)\n",
    "    V_right = np.clip(_V_right, V_min, V_max)\n",
    "    drone.set_V(V_left, V_right)"
   ]
  },
  {
   "cell_type": "code",
   "execution_count": null,
   "metadata": {},
   "outputs": [],
   "source": [
    "drone = module.Drone(name=MyName, wind=True, flight_range=[0,-500,0,500])\n"
   ]
  },
  {
   "cell_type": "code",
   "execution_count": null,
   "metadata": {},
   "outputs": [],
   "source": []
  },
  {
   "source": [
    "At first glance the result looks the same, but if we zoom into the plot when the set point has apparently been reached, we see that we never actually reach the set point. This is simply because the feedback is proportional to the error signal ```z-z0```, which goes to zero when we approach the set point, and when close enough becomes too small to overcome the gravitational acceleration. "
   ],
   "cell_type": "markdown",
   "metadata": {}
  },
  {
   "cell_type": "code",
   "execution_count": null,
   "metadata": {},
   "outputs": [],
   "source": [
    "# Zoom into the resdiuals for example like this:\n",
    "start=1800\n",
    "t = results[start:,0]\n",
    "y = results[start:,1]\n",
    "z = results[start:,2]\n",
    "dz = results[start:,5]\n",
    "fig, ax = plt.subplots(1, figsize=(12,6))\n",
    "plt.plot(t, z-z0, 'b', label=\"z\")\n",
    "ax.set_xlabel(\"t [s]\")\n",
    "ax.set_ylabel(\"a.u.\")\n",
    "plt.grid()\n",
    "plt.legend()\n",
    "plt.tight_layout()"
   ]
  },
  {
   "source": [
    "In such a case we can add an integrator to the feedback loop:"
   ],
   "cell_type": "markdown",
   "metadata": {}
  },
  {
   "cell_type": "code",
   "execution_count": null,
   "metadata": {},
   "outputs": [],
   "source": [
    "# vertical feedback loop\n",
    "def z_PID_feedback(z, dz, z0, z_fb):\n",
    "    # z: z position of drone\n",
    "    # dz: z velocity of drone\n",
    "    # z0 : set point\n",
    "    # z_fb: previously returned feedback\n",
    "    p =   # proportional gain\n",
    "    d =   # differentiator gain\n",
    "    i =   # integrator gain\n",
    "    fb = (z-z0) * p - d * dz + i*z_fb\n",
    "    return fb"
   ]
  },
  {
   "cell_type": "code",
   "execution_count": null,
   "metadata": {},
   "outputs": [],
   "source": [
    "# Try the done with the new feeback, and also check the residuals"
   ]
  },
  {
   "cell_type": "code",
   "execution_count": null,
   "metadata": {},
   "outputs": [],
   "source": []
  },
  {
   "source": [
    "\n",
    "After fine-tuning the gains, we can get much closer to the set point (however, we cannot really reach it, the residual will be always >0). The integrator part is useful in controls with a constant or low-frequency disturbance, such as, in this case, the constat graviational force.\n",
    "\n",
    "# Horizontal control, we need a cascaded system!\n",
    "\n",
    "Now to complete the controller we need to add a horizontal control loop. However we have no actuator that can move the drone sideways directly. Instead we need to tilt the drone to create a sideways motion. Therefore the tilt control loop can be our actuator for the horizontal control. This means a cascaded system, in which the horizontal control is an `outer loop' and the tilt control the `inner loop'.\n",
    "\n",
    "To test this we write yet another feedback loop, using at least proportional and differential feedback. We then use the feedback from that loop to change the set point of the tilt control loop. \n",
    "\n",
    "For this part we need to open up the drone ```flight_range``` to the full field of ```[-500, -500, 500, 500]```.\n"
   ],
   "cell_type": "markdown",
   "metadata": {}
  },
  {
   "cell_type": "code",
   "execution_count": null,
   "metadata": {},
   "outputs": [],
   "source": [
    "# vertical feedback loop\n",
    "def z_PID_feedback(z, dz, z0, z_fb):\n",
    "    # z: z position of drone\n",
    "    # dz: z velocity of drone\n",
    "    # z0 : set point\n",
    "    # z_fb: previously returned feedback\n",
    "    p =  # proportional gain\n",
    "    d =  # differentiator gain\n",
    "    i =  # integrator gain\n",
    "    fb = (z-z0) * p - d * dz + i*z_fb\n",
    "    return fb\n",
    "\n",
    "def phi_damped_feedback(phi, dphi, phi0):\n",
    "    p =  # p for proportional gain\n",
    "    d =  # d for differential gain\n",
    "    fb = (phi-phi0) * p + d * dphi\n",
    "    return fb\n",
    "\n",
    "def y_PID_feedback(y, dy, y0, y_fb):\n",
    "    p = \n",
    "    d = \n",
    "    i = \n",
    "    fb = (y-y0) * p + d * dy + i * y_fb\n",
    "    # we limit the tilt the drone no more that +-0.2 pi\n",
    "    fb = np.clip(fb, -0.2*np.pi, 0.2*np.pi)\n",
    "    return fb"
   ]
  },
  {
   "cell_type": "code",
   "execution_count": null,
   "metadata": {},
   "outputs": [],
   "source": [
    "drone = module.Drone(name=MyName, wind=True, flight_range=[-500,-500,500,500])\n"
   ]
  },
  {
   "cell_type": "code",
   "execution_count": null,
   "metadata": {},
   "outputs": [],
   "source": []
  },
  {
   "source": [
    "We can see that the naive combination of the feedback through the function ```zphi2V(fb_z, fb_phi)``` we created at the very top of the notebook works. But if you experiment a bit more you can also see that it has a few problems. For example, in certain conditions we can see in the flight behaviour that the direction of ```phi``` set by the y control is wrong when the vertial feedback is negativ. Similarly, the clipping of the voltage can cancel the tilt when the amount of vertical feedback is large. To address these issues you could try smarter combination. \n",
    "\n",
    "In the next notebooks we will use the control loops designed here. The naive signal combination and clipping will give satisfactory results. We suggest trying these first before you think about optimised control designs.  "
   ],
   "cell_type": "markdown",
   "metadata": {}
  }
 ]
}