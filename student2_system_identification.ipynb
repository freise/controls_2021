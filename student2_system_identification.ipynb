{
 "metadata": {
  "language_info": {
   "codemirror_mode": {
    "name": "ipython",
    "version": 3
   },
   "file_extension": ".py",
   "mimetype": "text/x-python",
   "name": "python",
   "nbconvert_exporter": "python",
   "pygments_lexer": "ipython3",
   "version": "3.9.2"
  },
  "orig_nbformat": 2,
  "kernelspec": {
   "name": "python392jvsc74a57bd034ea34a95fc8c860ea654946bc3d2ac20d836af5fba6f8cd5c2350e7aac8e38e",
   "display_name": "Python 3.9.2 64-bit ('copter': conda)"
  }
 },
 "nbformat": 4,
 "nbformat_minor": 2,
 "cells": [
  {
   "source": [
    "# Topical Lectures April 2021\n",
    "## Drone control, part 2: system identification\n",
    "Andreas Freise, Bas Swinkels 13.04.2021"
   ],
   "cell_type": "markdown",
   "metadata": {}
  },
  {
   "source": [
    "Before we can start playing with control systems for our drone we need to first understand the drone itself a bit better. Each drone comes with roughly the same specification but the exact behaviour of each individual model is slightly different. For example, the left and right motors are not providing the exact same force when the same voltage is applied. Similarly they most likley won't have the same full range (V_min to V_max). \n",
    "\n",
    "We need to do some experiments to find the parameters that characterise our drone, so that we can compensate for such deviations in the actuation part of our control system.\n",
    "\n",
    "First we learn how to do such experiments:\n",
    "- from now on you need to call the ```drone``` command without the ```test``` paramater. Instead you have to specfify your full name, e.g. in my case :\n",
    " - ```MyName = \"Andreas\"```\n",
    " - ```drone = module.Drone(name=MyName)```. \n",
    "The name string is used to generate unique parameters for your drone. \n",
    "- The drone has two optional parameters: ```wind``` and ```flight_range```: ```wind``` is a Boolean variable, when ```True``` the drone experiences random external forces from airmotion. For the system identifcation we assume we are somewhere inside withour wind and can set ```wiind=False```. \n",
    "- We will use the ```flight_range``` extensively. It is an array of 4 values giving the lower left and upper right coordinates of the free range in which the drone can fly. This can be also used to `clmap' the drone in a jig for testing. For example, with ```flight_range=[0,0,0,0]``` the drone will not move sideways or up/down, but can still tilt. Similarly, using ```flight_range=[0,-500,0,500]``` linits the drone to up/down motion (tilt remains allowed).\n",
    "\n",
    "In this notebook we will experiments in non-interactive way. You need to think ahead and plan your experiment and analyse the output afterwards. In practise this means you need to allocate an empty NumPy array to store the results, i.e. you have to decide in advance how mnay iterations you want to run. Let's try it out:"
   ],
   "cell_type": "markdown",
   "metadata": {}
  },
  {
   "cell_type": "code",
   "execution_count": null,
   "metadata": {},
   "outputs": [],
   "source": [
    "import numpy as np\n",
    "import matplotlib.pyplot as plt\n",
    "import time\n",
    "import module\n",
    "import warnings\n",
    "warnings.filterwarnings(\"ignore\", category=DeprecationWarning) \n",
    "\n",
    "# This time we want inline plotting (non-interactive)\n",
    "%matplotlib inline\n",
    "\n",
    "# Don't forget to set the name string to your own name\n",
    "MyName = "
   ]
  },
  {
   "cell_type": "code",
   "execution_count": null,
   "metadata": {},
   "outputs": [],
   "source": [
    "# First: just see how we can do some plotting without the interactve graph\n",
    "\n",
    "drone = module.Drone(name=MyName, wind=False, flight_range=[-500,-500,500,500])\n",
    "\n",
    "N = 3000 # number of iterations\n",
    "\n",
    "# Allocating a NumPy array for our data, with N rows and 14 columns, of which \n",
    "# 12 column will be used to store drone output, and 2 columns for other data\n",
    "results = np.zeros([N,14])\n",
    "\n",
    "# The drone will return 12 values:\n",
    "# t, y, z, phi, y', z', phi', F, tau, F_left, F_right, targets_achieved\n",
    "# t: time\n",
    "# y: y (left-right) position in cm\n",
    "# z: z (up-down) position in cm\n",
    "# phi: angle of the drone in radians\n",
    "# y' ,z' ,phi' are the respective velocities\n",
    "# F: total force\n",
    "# tau: torque\n",
    "# force applied in left motor\n",
    "# force applied in right motor\n",
    "# targets_achieved: number of targets succesfully reached (in the right order)\n",
    "\n",
    "# We will use the results array cto store two further values:\n",
    "# the voltage we send to the left and right rotor.\n",
    "\n",
    "V_left = 0.5\n",
    "V_right = 0.5\n",
    "\n",
    "for i in range(N):\n",
    "    # each iteration we can set the voltage of the motors\n",
    "    drone.set_V(V_left, V_right)\n",
    "    # the update functions performas one iteration of 1/60 s duration and returns the state of the drone\n",
    "    results[i,0:12] = drone.update()\n",
    "    results[i,12:14] = [V_left,V_right] # append voltages just to record everything\n"
   ]
  },
  {
   "source": [
    "Now we can plot what happened in our experiment:"
   ],
   "cell_type": "markdown",
   "metadata": {}
  },
  {
   "cell_type": "code",
   "execution_count": null,
   "metadata": {},
   "outputs": [],
   "source": [
    "# plotting the y,z position and tilt of the drone as a function of time \n",
    "t = results[:,0]\n",
    "y = results[:,1]\n",
    "z = results[:,2]\n",
    "phi = results[:,3]\n",
    "fig, ax = plt.subplots(1, figsize=(12,6))\n",
    "plt.plot(t,z, 'k', label=\"z\")\n",
    "plt.plot(t,y, 'r', label=\"y\")\n",
    "plt.plot(t,np.rad2deg(phi), 'b', label=\"phi\")\n",
    "ax.set_xlabel(\"t [s]\")\n",
    "ax.set_ylabel(\"a.u.\")\n",
    "plt.grid()\n",
    "plt.legend()\n",
    "plt.tight_layout()"
   ]
  },
  {
   "source": [
    "We see that without any corrections our drone rolls and falls. \n",
    "\n",
    "Next, we should try to stabilise the tilt by finding the right volatges for the left and right rotors to balance the forces. We can find the right voltages, for eample, by ramping the voltage of one rotor during the experiment and then check when the acceleration of the tilt (phi'') becomes zero."
   ],
   "cell_type": "markdown",
   "metadata": {}
  },
  {
   "cell_type": "code",
   "execution_count": null,
   "metadata": {},
   "outputs": [],
   "source": [
    "drone = module.Drone(name=MyName, wind=False, flight_range=[0,0,0,0])\n",
    "N = 800\n",
    "results = np.zeros([N,14])\n",
    "\n",
    "V_left =  1\n",
    "V_right = 1\n",
    "\n",
    "max_offset = 0.3\n",
    "V_left_offset = -1 * max_offset\n",
    "\n",
    "for i in range(N):\n",
    "    # ramping the left voltage\n",
    "    V_left_offset += 2.0 * max_offset / N\n",
    "    drone.set_V(V_left + V_left_offset, V_right)\n",
    "    results[i,0:12] = drone.update()\n",
    "    results[i,12] = V_left_offset # this time we store the offset only\n"
   ]
  },
  {
   "cell_type": "code",
   "execution_count": null,
   "metadata": {},
   "outputs": [],
   "source": [
    "t = results[:,0]\n",
    "y = results[:,1]\n",
    "z = results[:,2]\n",
    "phi = results[:,3] # angle\n",
    "dphi = results[:,6] # angular velocity\n",
    "ddphi = np.diff(dphi)/np.diff(t) # angular acceleration phi'' (derivative of phi')\n",
    "fig, ax = plt.subplots(1, figsize=(12,6))\n",
    "plt.plot(np.rad2deg(phi), 'b', label=\"phi\")\n",
    "plt.plot(np.rad2deg(dphi), 'r', label=\"dphi\")\n",
    "plt.plot(np.rad2deg(ddphi), 'k', label=\"ddphi\")\n",
    "ax.set_xlabel(\"t [s]\")\n",
    "ax.set_ylabel(\"a.u.\")\n",
    "plt.grid()\n",
    "plt.legend()\n",
    "plt.tight_layout()"
   ]
  },
  {
   "source": [
    "The best way to find a specifc value in an array with Python is the using the ```argmin``` function from NumPy. In this case we want to know when ```ddphi``` is zero, and then get the voltage offset at which this ocured:"
   ],
   "cell_type": "markdown",
   "metadata": {}
  },
  {
   "cell_type": "code",
   "execution_count": null,
   "metadata": {},
   "outputs": [],
   "source": [
    "idx = np.argmin(np.abs(ddphi-0))\n",
    "print(f\"ddphi = {ddphi[idx]}\")"
   ]
  },
  {
   "cell_type": "code",
   "execution_count": null,
   "metadata": {},
   "outputs": [],
   "source": [
    "V_left_offset = results[idx,12]\n",
    "print(f\"V_left_offset  = {V_left_offset}\")"
   ]
  },
  {
   "source": [
    "(Before continuing, you might want to re-run the above to find a more accurate value for this offset.)\n",
    "\n",
    "Now we can run the drone usibg the new-found offset and see if we have a more stable (in tilt) drone:"
   ],
   "cell_type": "markdown",
   "metadata": {}
  },
  {
   "cell_type": "code",
   "execution_count": null,
   "metadata": {},
   "outputs": [],
   "source": [
    "drone = module.Drone(name=MyName, wind=False, flight_range=[-500,-500,500,500])\n",
    "N = 3000 \n",
    "results = np.zeros([N,14])\n",
    "V_left = 0.5 + V_left_offset\n",
    "V_right = 0.5\n",
    "\n",
    "for i in range(N):\n",
    "    drone.set_V(V_left, V_right)\n",
    "    results[i,0:12] = drone.update()\n",
    "    results[i,12:14] = [V_left,V_right]"
   ]
  },
  {
   "cell_type": "code",
   "execution_count": null,
   "metadata": {},
   "outputs": [],
   "source": [
    "t = results[:,0]\n",
    "y = results[:,1]\n",
    "z = results[:,2]\n",
    "phi = results[:,3]\n",
    "fig, ax = plt.subplots(1, figsize=(12,6))\n",
    "plt.plot(t,z, 'k', label=\"z\")\n",
    "plt.plot(t,y, 'r', label=\"y\")\n",
    "plt.plot(t,np.rad2deg(phi), 'b', label=\"phi\")\n",
    "ax.set_xlabel(\"t [s]\")\n",
    "ax.set_ylabel(\"a.u.\")\n",
    "plt.grid()\n",
    "plt.legend()\n",
    "plt.tight_layout()"
   ]
  },
  {
   "source": [
    "OK, this should be better alerady. Maybe we could use a more accurate value to balance it even better. It does not need to be perfect as we will use a control loop later.\n",
    "\n",
    "We suggest as the next experiments:\n",
    "1) find the voltages for the drone to hover\n",
    "2) find the maxiumum and minimum voltages that can be safely applied (before one of the rotors stops reacting)\n",
    "\n",
    "The first of these test could follow the same technique as before, e.g. ramp the voltages together (while using the offset from before to balance the rotors) and find the moment when z'' becomes zero."
   ],
   "cell_type": "markdown",
   "metadata": {}
  },
  {
   "cell_type": "code",
   "execution_count": null,
   "metadata": {},
   "outputs": [],
   "source": [
    "# Your code goes here!"
   ]
  },
  {
   "cell_type": "code",
   "execution_count": null,
   "metadata": {},
   "outputs": [],
   "source": [
    "# Plotting the result\n",
    "t = results[:,0]\n",
    "z = results[:,2]\n",
    "dz = results[:,5]\n",
    "ddz = np.diff(dz)/np.diff(t)\n",
    "fig, ax = plt.subplots(1, figsize=(12,6))\n",
    "plt.plot(z, 'b', label=\"z\")\n",
    "plt.plot(dz, 'r', label=\"dz\")\n",
    "plt.plot(ddz, 'k', label=\"ddzi\")\n",
    "ax.set_xlabel(\"t [s]\")\n",
    "ax.set_ylabel(\"a.u.\")\n",
    "plt.grid()\n",
    "plt.legend()\n",
    "plt.tight_layout()"
   ]
  },
  {
   "cell_type": "code",
   "execution_count": null,
   "metadata": {},
   "outputs": [],
   "source": []
  },
  {
   "cell_type": "code",
   "execution_count": null,
   "metadata": {},
   "outputs": [],
   "source": [
    "# store the result in a variable to use later\n",
    "V_hover  = "
   ]
  },
  {
   "source": [
    "We can test if the drone stays in the air longer now:"
   ],
   "cell_type": "markdown",
   "metadata": {}
  },
  {
   "cell_type": "code",
   "execution_count": null,
   "metadata": {},
   "outputs": [],
   "source": [
    "drone = module.Drone(name=MyName, wind=False, flight_range=[-500,-500,500,500])\n",
    "N = 3000 # number of iterations\n",
    "results = np.zeros([N,14])\n",
    "\n",
    "V_left = V_hover\n",
    "V_right = V_hover\n",
    "\n",
    "for i in range(N):\n",
    "    drone.set_V(V_left+V_left_offset, V_right)\n",
    "    results[i,0:12] = drone.update()\n",
    "    results[i,12:14] = [V_left,V_right]"
   ]
  },
  {
   "cell_type": "code",
   "execution_count": null,
   "metadata": {},
   "outputs": [],
   "source": [
    "t = results[:,0]\n",
    "y = results[:,1]\n",
    "z = results[:,2]\n",
    "phi = results[:,3]\n",
    "fig, ax = plt.subplots(1, figsize=(12,6))\n",
    "plt.plot(t,z, 'k', label=\"z\")\n",
    "plt.plot(t,y, 'r', label=\"y\")\n",
    "plt.plot(t,np.rad2deg(phi), 'b', label=\"phi\")\n",
    "ax.set_xlabel(\"t [s]\")\n",
    "ax.set_ylabel(\"a.u.\")\n",
    "plt.grid()\n",
    "plt.legend()\n",
    "plt.tight_layout()"
   ]
  },
  {
   "source": [
    "Finally we want to check for clipping, i.e. find out what are the maximum and minimum voltages for each motor. We can use this information later to limit the feedback of our control to a safe range."
   ],
   "cell_type": "markdown",
   "metadata": {}
  },
  {
   "cell_type": "code",
   "execution_count": null,
   "metadata": {},
   "outputs": [],
   "source": []
  },
  {
   "cell_type": "code",
   "execution_count": null,
   "metadata": {},
   "outputs": [],
   "source": []
  },
  {
   "cell_type": "code",
   "execution_count": null,
   "metadata": {},
   "outputs": [],
   "source": [
    "V_max = \n",
    "V_min ="
   ]
  },
  {
   "source": [
    "Now we have identified the parameters for our specifc drone. Let's print then so that we can copy and paste the values as variables into the next notebooks for the drone controls."
   ],
   "cell_type": "markdown",
   "metadata": {}
  },
  {
   "cell_type": "code",
   "execution_count": null,
   "metadata": {},
   "outputs": [],
   "source": [
    "print(f\"V_left_offset = {V_left_offset}\")\n",
    "print(f\"V_hover = {V_hover}\")\n",
    "print(f\"V_max = {V_max}\")\n",
    "print(f\"V_min = {V_min}\")"
   ]
  },
  {
   "cell_type": "code",
   "execution_count": null,
   "metadata": {},
   "outputs": [],
   "source": []
  }
 ]
}