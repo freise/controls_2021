{
 "metadata": {
  "language_info": {
   "codemirror_mode": {
    "name": "ipython",
    "version": 3
   },
   "file_extension": ".py",
   "mimetype": "text/x-python",
   "name": "python",
   "nbconvert_exporter": "python",
   "pygments_lexer": "ipython3",
   "version": "3.9.2"
  },
  "orig_nbformat": 2,
  "kernelspec": {
   "name": "python392jvsc74a57bd034ea34a95fc8c860ea654946bc3d2ac20d836af5fba6f8cd5c2350e7aac8e38e",
   "display_name": "Python 3.9.2 64-bit ('copter': conda)"
  }
 },
 "nbformat": 4,
 "nbformat_minor": 2,
 "cells": [
  {
   "source": [
    "# Topical Lectures April 2021\n",
    "## Drone control, part 4a: test flight\n",
    "Andreas Freise, Bas Swinkels 13.04.2021\n",
    "\n",
    "In the 4th and last part of the project we provide two alternative notebooks, one which uses interactive plotting and one which uses non-interactive plotting. If you can we suggest that you use the one with interactive plots (4a) first.\n",
    "\n",
    "In this notebook, we will try to fly our drone, using the controls we developped in the previous notebooks. To make it a bit more fun, we pose the following challenge: fly your drone through a set of predefined markers and report the time. We will compare the best times at the end of the project."
   ],
   "cell_type": "markdown",
   "metadata": {}
  },
  {
   "cell_type": "code",
   "execution_count": null,
   "metadata": {},
   "outputs": [],
   "source": [
    "import numpy as np\n",
    "import matplotlib.pyplot as plt\n",
    "import time\n",
    "import module\n",
    "import warnings\n",
    "warnings.filterwarnings(\"ignore\", category=DeprecationWarning) \n",
    "\n",
    "# interactive plots again\n",
    "%matplotlib qt\n",
    "\n",
    "# Don't forget to set the name string to your own name\n",
    "MyName = "
   ]
  },
  {
   "source": [
    "First copy over Enter the functions for the drone feedback that you developed, i.e.\n",
    " - set_v()\n",
    " - set_v_nohover()\n",
    " - zphi2V()\n",
    "(or similar functions you developed in the previous notebooks)\n",
    "\n"
   ],
   "cell_type": "markdown",
   "metadata": {}
  },
  {
   "source": [
    "# Enter the functions for the drone feedback here\n"
   ],
   "cell_type": "code",
   "metadata": {},
   "execution_count": null,
   "outputs": []
  },
  {
   "source": [
    "Enter the functions to compute the feedback for the y,z and phi control loops below:"
   ],
   "cell_type": "markdown",
   "metadata": {}
  },
  {
   "cell_type": "code",
   "execution_count": null,
   "metadata": {},
   "outputs": [],
   "source": [
    "# Functions for\n",
    "# - vertical feedback \n",
    "# - tilt feedback \n",
    "# - horizontal feedback\n"
   ]
  },
  {
   "source": [
    "## Racing your drone\n",
    "\n",
    "In order to test our new control loops we are going to race our drone through a simple track. The goal is to reach a pre-defined set of targets as quickly as possible. In this notebook we will use an interactive plot and keyboard controls to do so.\n",
    "\n",
    "Below we provide some code that allows keyboard control similar to notebook 1. However, this time the keys are used to change the set point of the y and z loops. As you will see, flying the drone has become much easier!\n",
    "\n",
    "Add your code to compute the feddback signals at the indicated place."
   ],
   "cell_type": "markdown",
   "metadata": {}
  },
  {
   "cell_type": "code",
   "execution_count": null,
   "metadata": {},
   "outputs": [],
   "source": [
    "class Control():\n",
    "    def __init__(self, _drone):\n",
    "        self.drone = _drone\n",
    "        self.plotter =  module.Plotter(self.drone)\n",
    "\n",
    "        self.key_dy = 10\n",
    "        self.key_dz = 10\n",
    "        self.stop = False\n",
    "        self.reset()\n",
    "\n",
    "    def reset(self):\n",
    "        self.V_left  = 0\n",
    "        self.V_right = 0\n",
    "        self.F = 0.5\n",
    "        self.offset = 0\n",
    "        self.y0 = 0 \n",
    "        self.z0 = 0\n",
    "        self.plotter.reset()\n",
    "\n",
    "    def key_control(self):\n",
    "        self.stop = False\n",
    "        self.drone.stop = False\n",
    "        self.plotter.fig.canvas.mpl_disconnect(self.plotter.fig.canvas.manager.key_press_handler_id)\n",
    "        self.cid = self.plotter.fig.canvas.mpl_connect('key_press_event', self.on_key_simple)\n",
    "        results = np.zeros(12)\n",
    "        z_fb = 0\n",
    "        y_fb = 0\n",
    "        drone_str = ''\n",
    "\n",
    "        while not self.stop:\n",
    "            # update drone and store results\n",
    "            results = self.drone.update()\n",
    "            # setting local variables for better readability\n",
    "            z = results[2]\n",
    "            dz = results[5]\n",
    "            y = results[1]\n",
    "            dy = results[4]\n",
    "            phi = results[3]\n",
    "            dphi = results[6]\n",
    "\n",
    "            # ----------------------------------------------------\n",
    "            # Add your function calls to compute the feedback here.\n",
    "\n",
    "            # ....\n",
    "\n",
    "            # ----------------------------------------------------\n",
    "\n",
    "            # Applying feedback\n",
    "            self.V_left, self.V_right = zphi2V(z_fb, phi_fb)\n",
    "\n",
    "            # ----------------------------------------------------\n",
    "            # Change the below to your set_v function (which you\n",
    "            # used to develop the feedback loops)\n",
    "            set_v_nohover(self.drone,self.V_left, self.V_right)\n",
    "            # ----------------------------------------------------\n",
    "\n",
    "            # Checking if all targets have been reached, if so, stop!\n",
    "            if results[11] == self.drone.num_targets:\n",
    "                self.stop = True\n",
    "\n",
    "            # String to print set point in interactive window\n",
    "            drone_str = f\"y0 = {self.y0}, z0 = {self.z0}\"\n",
    "            # Update the interatctive plot\n",
    "            self.plotter.update_display(drone_str)\n",
    "        self.plotter.fig.canvas.mpl_disconnect(self.cid)\n",
    "\n",
    "        if self.drone.num_targets>0:\n",
    "            if results[11] == self.drone.num_targets:\n",
    "                print(f\"All targets reached in: {results[0]:.2f} seconds.\")\n",
    "            else:\n",
    "                print(\"Not all targets have been reached.\")\n",
    "\n",
    "    def on_key_simple(self, event):\n",
    "        if event.key == 'escape':\n",
    "            print('Stopping!')\n",
    "            self.stop = True\n",
    "        elif event.key == 'w':\n",
    "            self.z0 += self.key_dz\n",
    "        elif event.key == 's':\n",
    "            self.z0 -= self.key_dz\n",
    "        elif event.key == 'a':\n",
    "            self.y0 -= self.key_dy\n",
    "        elif event.key == 'd':\n",
    "            self.y0 += self.key_dy\n"
   ]
  },
  {
   "source": [
    "To test our controls we set a 'race' track as a set of targets. "
   ],
   "cell_type": "markdown",
   "metadata": {}
  },
  {
   "cell_type": "code",
   "execution_count": null,
   "metadata": {},
   "outputs": [],
   "source": [
    "drone = module.Drone(name=MyName, wind=True)\n",
    "# Defining the track as an array of targets [y,z,radius].\n",
    "# The targets have to be reached in the given order.\n",
    "# The track below is the `offical' track, we want to see your best time for this exact track!\n",
    "targets = np.array([\n",
    "    [ 200,  300, 10],\n",
    "    [ 200, -300, 10],\n",
    "    [-200, -300, 10],\n",
    "    [-200,  300, 10],\n",
    "    [0,0,10]\n",
    "])\n",
    "\n",
    "# Setting the targets\n",
    "drone.set_targets(targets)\n",
    "\n",
    "control = Control(drone)"
   ]
  },
  {
   "cell_type": "code",
   "execution_count": null,
   "metadata": {
    "tags": []
   },
   "outputs": [],
   "source": [
    "control.key_control()"
   ]
  },
  {
   "cell_type": "code",
   "execution_count": null,
   "metadata": {},
   "outputs": [],
   "source": [
    "control.plotter.close()"
   ]
  },
  {
   "cell_type": "code",
   "execution_count": null,
   "metadata": {},
   "outputs": [],
   "source": []
  }
 ]
}