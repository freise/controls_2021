{
 "metadata": {
  "language_info": {
   "codemirror_mode": {
    "name": "ipython",
    "version": 3
   },
   "file_extension": ".py",
   "mimetype": "text/x-python",
   "name": "python",
   "nbconvert_exporter": "python",
   "pygments_lexer": "ipython3",
   "version": "3.9.2"
  },
  "orig_nbformat": 2,
  "kernelspec": {
   "name": "python392jvsc74a57bd034ea34a95fc8c860ea654946bc3d2ac20d836af5fba6f8cd5c2350e7aac8e38e",
   "display_name": "Python 3.9.2 64-bit ('copter': conda)"
  }
 },
 "nbformat": 4,
 "nbformat_minor": 2,
 "cells": [
  {
   "source": [
    "# Topical Lectures April 2021\n",
    "## Drone control, part 1: keyboard flying is hard\n",
    "Andreas Freise, Bas Swinkels 13.04.2021\n",
    "\n",
    "This is the first notebook of the hands-on session in which play with our drone object. The aims of this notebook are a) to get familiar with the notebook format and to b) to learn that flying a drone without any controls is difficult. "
   ],
   "cell_type": "markdown",
   "metadata": {}
  },
  {
   "cell_type": "code",
   "execution_count": null,
   "metadata": {},
   "outputs": [],
   "source": [
    "# Importing packages\n",
    "import numpy as np\n",
    "import matplotlib.pyplot as plt\n",
    "import warnings\n",
    "warnings.filterwarnings(\"ignore\", category=DeprecationWarning) \n",
    "\n",
    "# This is a local file containing the drone code. You are supposed to manage the drone\n",
    "# as a 'black box', but feel free to study the code if you want.\n",
    "import module\n",
    "\n",
    "# For the interactive plots we need the QT backend\n",
    "%matplotlib qt"
   ]
  },
  {
   "source": [
    "The ```module``` package contains code which models a drone and separately a pre-defined plot that can be used for interactive plots.\n",
    "\n",
    "The main interaction with the drone happens through the following steps:\n",
    " * create a drone with: ```drone = module.Drone(...)```\n",
    " * set the voltage of the left and right rotor motors with ```self.drone.set_V(V_left, V_right)```\n",
    " * model one time step (1/60 sec) with ```results = self.drone.update()```. ```results``` will contain a current data from the drone such as postion and velocities, see below.\n",
    "\n",
    "Typically for each task you create a new drone model and then run a loop in which you continuosly set the rotor voltages and then run one time step forward. You can either plot the data received in ```results``` in an interactive way, or store it in an array for a later analysis."
   ],
   "cell_type": "markdown",
   "metadata": {}
  },
  {
   "cell_type": "code",
   "execution_count": null,
   "metadata": {},
   "outputs": [],
   "source": [
    "# An example code that applys manual signals to the drone: \n",
    "# the volatges send to the left and right rotor can be changed with key commands\n",
    "\n",
    "class Control():\n",
    "    def __init__(self, _drone):\n",
    "        self.drone = _drone\n",
    "        self.plotter = module.Plotter(self.drone)\n",
    "\n",
    "        # step values for keyboard control\n",
    "        self.key_dF = 0.03\n",
    "        self.key_dF0 = 0.005 \n",
    "\n",
    "        self.stop = False\n",
    "        self.reset()\n",
    "\n",
    "    def reset(self):\n",
    "        self.V_left  = 0\n",
    "        self.V_right = 0\n",
    "        self.F = 0.5\n",
    "        self.offset = 0\n",
    "        self.plotter.reset()\n",
    "\n",
    "    def set_F2leftright(self):\n",
    "        # computing the left and right volatges from F and offset\n",
    "        F_right = self.F - self.offset\n",
    "        F_left =  self.F + self.offset\n",
    "        self.V_left  = F_left\n",
    "        self.V_right = F_right\n",
    "\n",
    "    def key_control_simple(self):\n",
    "        # initialising interactive plot\n",
    "        self.stop = False\n",
    "        self.drone.stop = False\n",
    "        # connecting key event manager\n",
    "        self.plotter.fig.canvas.mpl_disconnect(self.plotter.fig.canvas.manager.key_press_handler_id)\n",
    "        self.cid = self.plotter.fig.canvas.mpl_connect('key_press_event', self.on_key_simple)\n",
    "\n",
    "        # starting loop to run the drone \n",
    "        # ----------------------------------------------------\n",
    "        while not self.stop:\n",
    "            # send volatges to drone\n",
    "            self.drone.set_V(self.V_left, self.V_right)\n",
    "            # drone moves for 1/60 seconds\n",
    "            self.drone.update()\n",
    "            # update display\n",
    "            self.plotter.update_display()\n",
    "        # ----------------------------------------------------\n",
    "        # disconecting key event manager\n",
    "        self.plotter.fig.canvas.mpl_disconnect(self.cid)\n",
    "        \n",
    "    def on_key_simple(self, event):\n",
    "        if event.key == 'escape':\n",
    "            print('Stopping!')\n",
    "            self.stop = True\n",
    "        elif event.key == 'w':\n",
    "            self.F += self.key_dF\n",
    "        elif event.key == 's':\n",
    "            self.F -= self.key_dF\n",
    "        elif event.key == 'a':\n",
    "            self.offset -= self.key_dF0\n",
    "        elif event.key == 'd':\n",
    "            self.offset += self.key_dF0\n",
    "        self.set_F2leftright()\n"
   ]
  },
  {
   "cell_type": "code",
   "execution_count": null,
   "metadata": {},
   "outputs": [],
   "source": [
    "# Create the drone object in test mode \n",
    "# (Only use the test mode this in this notebook!)\n",
    "drone = module.Drone(test=True)\n",
    "\n",
    "# set a target for us to reach at y=100cm, z=300cm with a radius of 10cm\n",
    "drone.set_targets(np.array([[100,300,10]]))\n",
    "\n",
    "# initialising our control object\n",
    "control = Control(drone)"
   ]
  },
  {
   "cell_type": "code",
   "execution_count": null,
   "metadata": {},
   "outputs": [],
   "source": [
    "# This starts the interactive plot, after running this command, click on the plot and \n",
    "# use the WASD keys to fly the drone. Use ESC to stop.\n",
    "control.key_control_simple()"
   ]
  },
  {
   "cell_type": "code",
   "execution_count": null,
   "metadata": {},
   "outputs": [],
   "source": [
    "control.plotter.close()"
   ]
  },
  {
   "cell_type": "code",
   "execution_count": null,
   "metadata": {},
   "outputs": [],
   "source": [
    "drone.reset()\n",
    "control.reset()"
   ]
  },
  {
   "cell_type": "code",
   "execution_count": null,
   "metadata": {},
   "outputs": [],
   "source": []
  }
 ]
}