{
 "metadata": {
  "language_info": {
   "codemirror_mode": {
    "name": "ipython",
    "version": 3
   },
   "file_extension": ".py",
   "mimetype": "text/x-python",
   "name": "python",
   "nbconvert_exporter": "python",
   "pygments_lexer": "ipython3",
   "version": "3.9.2"
  },
  "orig_nbformat": 2,
  "kernelspec": {
   "name": "python392jvsc74a57bd034ea34a95fc8c860ea654946bc3d2ac20d836af5fba6f8cd5c2350e7aac8e38e",
   "display_name": "Python 3.9.2 64-bit ('copter': conda)"
  }
 },
 "nbformat": 4,
 "nbformat_minor": 2,
 "cells": [
  {
   "source": [
    "# Topical Lectures April 2021\n",
    "## Drone control, part 4b: test flight (non-interactive)\n",
    "Andreas Freise, Bas Swinkels 13.04.2021\n",
    "\n",
    "In the 4th and last part of the project we provide two alternative notebooks, one which uses interactive plotting and one which uses non-interactive plotting. If you can we suggest that you use the one with interactive plots (4a) first.\n",
    "\n",
    "In this notebook, we will try to fly our drone, using the controls we developped in the previous notebooks. To make it a bit more fun, we pose the following challenge: fly your drone through a set of predefined markers and report the time. We will compare the best times at the end of the project.\n",
    "\n",
    "This is an alternative verison of the notebook in which we don't use interactive mode but a preprogrammed set of controls to race our drone.\n"
   ],
   "cell_type": "markdown",
   "metadata": {}
  },
  {
   "cell_type": "code",
   "execution_count": null,
   "metadata": {},
   "outputs": [],
   "source": [
    "import numpy as np\n",
    "import matplotlib.pyplot as plt\n",
    "import time\n",
    "import module\n",
    "import warnings\n",
    "warnings.filterwarnings(\"ignore\", category=DeprecationWarning) \n",
    "\n",
    "# inline plots again\n",
    "%matplotlib inline\n",
    "\n",
    "# Don't forget to set the name string to your own name\n",
    "MyName = "
   ]
  },
  {
   "source": [
    "Again copy the feedback functions from previous notebooks here:"
   ],
   "cell_type": "markdown",
   "metadata": {}
  },
  {
   "source": [
    "# Enter the functions for the drone feedback here\n"
   ],
   "cell_type": "code",
   "metadata": {},
   "execution_count": null,
   "outputs": []
  },
  {
   "cell_type": "code",
   "execution_count": null,
   "metadata": {},
   "outputs": [],
   "source": []
  },
  {
   "source": [
    "## Racing your drone\n",
    "\n",
    "Again, to test our new control loops we are going to race our drone through a simple track. The goal is to reach a pre-defined set of targets as quickly as possible. \n",
    "\n",
    "Below we provide some code that allows interacting with the drone similar to notebooks 2 and 3. "
   ],
   "cell_type": "markdown",
   "metadata": {}
  },
  {
   "cell_type": "code",
   "execution_count": null,
   "metadata": {},
   "outputs": [],
   "source": [
    "drone = module.Drone(name=MyName, wind=True)\n",
    "# Defining the track as an array of targets [y,z,radius].\n",
    "# The targets have to be reached in the given order.\n",
    "targets = np.array([\n",
    "    [ 200,  300, 10],\n",
    "    [ 200, -300, 10],\n",
    "    [-200, -300, 10],\n",
    "    [-200,  300, 10],\n",
    "    [0,0,10]\n",
    "])\n",
    "\n",
    "# Setting the targets\n",
    "drone.set_targets(targets)\n",
    "\n",
    "# Runnding for 200 seconds\n",
    "N = 200*60\n",
    "Nidx = N-1\n",
    "results = np.zeros([N,14])\n",
    "V_left=V_right=0\n",
    "set_v(drone,V_left,V_right)\n",
    "z_fb = 0\n",
    "y_fb = 0 \n",
    "\n",
    "for i in range(N):\n",
    "    results[i,0:12] = drone.update()\n",
    "    results[i,12:14] = [V_left,V_right]\n",
    "    z = results[i,2]\n",
    "    dz = results[i,5]\n",
    "    y = results[i,1]\n",
    "    dy = results[i,4]\n",
    "    phi = results[i,3]\n",
    "    dphi = results[i,6]\n",
    "\n",
    "    # Setting the set point as the current target positon \n",
    "    idx = drone.target_idx\n",
    "    # stop if we have reached all targets\n",
    "    if idx == drone.num_targets:\n",
    "        Nidx = i\n",
    "        break\n",
    "    y0 = targets[idx,0]\n",
    "    z0 = targets[idx,1]\n",
    "    \n",
    "    # ----------------------------------------------------\n",
    "    # Your functions calls to compute the feedback goes here\n",
    "\n",
    "    # ...\n",
    "\n",
    "    # ----------------------------------------------------\n",
    "\n",
    "    # applying feedback\n",
    "    V_left, V_right = zphi2V(z_fb, phi_fb)\n",
    "\n",
    "    # ----------------------------------------------------\n",
    "    # Change the below to your set_v function (which you\n",
    "    # used to develop the feedback loops)\n",
    "    set_v_nohover(drone,V_left, V_right)\n",
    "    # ----------------------------------------------------\n",
    "\n"
   ]
  },
  {
   "cell_type": "code",
   "execution_count": null,
   "metadata": {},
   "outputs": [],
   "source": [
    "#Plotting the reuslts\n",
    "\n",
    "start=0\n",
    "t = results[start:,0]\n",
    "y = results[start:,1]\n",
    "z = results[start:,2]\n",
    "phi = results[start:,3]\n",
    "dphi = results[start:,6]\n",
    "fig, ax = plt.subplots(1, figsize=(12,6))\n",
    "for _t in targets:\n",
    "    patch = plt.Circle((_t[0],_t[1]),2*_t[2], lw=1, color='red', alpha=0.5, fill=False)\n",
    "    ax.add_patch(patch)\n",
    "plt.plot(y,z, 'k')\n",
    "ax.set_xlabel(\"y\")\n",
    "ax.set_ylabel(\"z\")\n",
    "ax.set_xlim(-500,500)\n",
    "ax.set_ylim(-500,500)\n",
    "ax.set_aspect('equal')\n",
    "plt.grid()\n",
    "#plt.legend()\n",
    "plt.tight_layout()\n",
    "\n",
    "t_end = results[Nidx,0]\n",
    "\n",
    "print(f\"Total time: {t_end:.2f} out of {N/60.0:.2f} seconds\")"
   ]
  },
  {
   "cell_type": "code",
   "execution_count": null,
   "metadata": {},
   "outputs": [],
   "source": []
  }
 ]
}