{
 "cells": [
  {
   "cell_type": "markdown",
   "metadata": {},
   "source": [
    "# Topical Lectures April 2021\n",
    "## Drone control, part 0: an example Jupyter notebook\n",
    "Andreas Freise, Bas Swinkels 13.04.2021\n",
    "\n",
    "\n",
    "All the work in this module will be done inside Jupyter notebooks such as this one. We provide you with several notebooks which contain task descriptions and suggestions. You will then complete the task by working inside the notebook. \n",
    "\n",
    "This is a simple example, to step you through the basics of using a Jupyter notebook. If you are already familar with Jupyter you should skip this notebook. Other students might want to play with this for a bit before starting the real task."
   ]
  },
  {
   "cell_type": "markdown",
   "metadata": {},
   "source": [
    "# 1. Executing Code"
   ]
  },
  {
   "cell_type": "code",
   "execution_count": null,
   "metadata": {},
   "outputs": [],
   "source": [
    "# Press Ctrl + Enter to run a single cell, \n",
    "# or Shift + Enter to run and select the cell below.\n",
    "print('Hello World!!!!!!!!!') "
   ]
  },
  {
   "cell_type": "markdown",
   "metadata": {},
   "source": [
    "### Import statements\n",
    "Installed modules may be imported as usual using import statements. Here we import two modules familiar from Year 1: `numpy` and `matplotlib.pyplot`. Remember that these modules may be accessed from anywhere in the notebook, but only if this cell (or another containing these import statements) is run first:"
   ]
  },
  {
   "cell_type": "code",
   "execution_count": null,
   "metadata": {
    "collapsed": true
   },
   "outputs": [],
   "source": [
    "# It is a common convention to use the local \n",
    "# names np and plt for these modules:\n",
    "import numpy as np\n",
    "import matplotlib.pyplot as plt"
   ]
  },
  {
   "cell_type": "markdown",
   "metadata": {},
   "source": [
    "### Syntax and Output\n",
    "Python code in notebooks has exactly the same syntax as it does in Spyder, or any environment for that matter.  \n",
    "Simple assignment won't result in a visible output - for that a function with a return value or a print statement must be executed: "
   ]
  },
  {
   "cell_type": "code",
   "execution_count": null,
   "metadata": {
    "collapsed": true
   },
   "outputs": [],
   "source": [
    "# np.arange(0,12) creates an array consisting of the integers from 0 to 12.\n",
    "# We reshape this into a 4x3 array.\n",
    "my_array = np.arange(0,12).reshape(4,3) \n",
    "# Notice that this assignment creates no output"
   ]
  },
  {
   "cell_type": "code",
   "execution_count": null,
   "metadata": {},
   "outputs": [],
   "source": [
    "# Any output appears directly below the cell's input area\n",
    "print(my_array) "
   ]
  },
  {
   "cell_type": "code",
   "execution_count": null,
   "metadata": {},
   "outputs": [],
   "source": [
    "# The result of the *final* computation or function return \n",
    "# in a cell will also be shown in the output:\n",
    "5 + 10 # the results of this addition will not appear\n",
    "10 + 1j # this result will be shown (j is used to denote the imaginary unit in Python)"
   ]
  },
  {
   "cell_type": "markdown",
   "metadata": {},
   "source": [
    "As an example, here we use a for loop to iterate over the elements of an array of 10 random integers, printing even values if they occur. Inside a notebook, this is easily run multiple times."
   ]
  },
  {
   "cell_type": "code",
   "execution_count": null,
   "metadata": {},
   "outputs": [],
   "source": [
    "# Generate an array of 10 random integers between 0 and 99 (inclusive)\n",
    "rand_array = np.random.randint(0,100,10) \n",
    "\n",
    "for x in rand_array:\n",
    "    # check the remainder of x/2 is equal to zero\n",
    "    if x % 2 == 0: \n",
    "        # if so print the number\n",
    "        print(x, end=' ') \n",
    "        # end=' ' ensures a space separates successive prints without newlines."
   ]
  },
  {
   "cell_type": "markdown",
   "metadata": {},
   "source": [
    "### Docstrings\n",
    "It is possible to view the documentation for a function by placing the cursor inside the parenthesis and pressing shift and tab together. This key combination works in Jupyter notebooks and most other interactive python interpreters.\n",
    "\n",
    "Note you can only do this once you have imported the function. Try it with the above codeblocks.\n",
    "\n",
    "If you wan't more detailed infomation you can also use:\n",
    "```python\n",
    "help(function)\n",
    "```\n",
    "Try it now:"
   ]
  },
  {
   "cell_type": "code",
   "execution_count": null,
   "metadata": {},
   "outputs": [],
   "source": [
    "help(np.random.randint)"
   ]
  },
  {
   "cell_type": "markdown",
   "metadata": {},
   "source": [
    "### Plotting\n",
    "Plots may be created inline using pyplot as usual:"
   ]
  },
  {
   "cell_type": "code",
   "execution_count": null,
   "metadata": {
    "collapsed": true
   },
   "outputs": [],
   "source": [
    "# Generate some sine wave data\n",
    "# np.linspace generates an array of evenly spaced values (100 here)\n",
    "x = np.linspace(0,6*np.pi,100) \n",
    "y = np.sin(x)"
   ]
  },
  {
   "cell_type": "code",
   "execution_count": null,
   "metadata": {
    "collapsed": true
   },
   "outputs": [],
   "source": [
    "# plot the sine wave\n",
    "fig = plt.figure(figsize=(10,6)) # new figure\n",
    "ax = fig.add_subplot(111) # add a subplot to figure\n",
    "ax.plot(x, y, 'r-') # plot the data onto the figure object\n",
    "\n",
    "ax.set_title('$y = sin(x)$')\n",
    "ax.set_xlabel('$x$') # note dollar signs (LaTeX typesetting)\n",
    "_ = ax.set_ylabel('$y$')\n",
    "\n",
    "# If data is returned and you do not want it, it is common to assign it \n",
    "# to the underscore character, this will also avoid unsightly output \n",
    "# from the last command in a cell"
   ]
  },
  {
   "cell_type": "code",
   "execution_count": null,
   "metadata": {},
   "outputs": [],
   "source": [
    "# plot not shown until you call show\n",
    "plt.show()"
   ]
  },
  {
   "cell_type": "markdown",
   "metadata": {},
   "source": [
    "#### More Complex Plots\n",
    "The matplotlib library also allows for the use of the `%matplotlib notebook` magic command, which results in all subsequently drawn figures being interactive (use `%matplotlib inline` to revert this).\n",
    "\n",
    "Lets plot a family of polynomials, interactively on the same set of axes."
   ]
  },
  {
   "cell_type": "code",
   "execution_count": null,
   "metadata": {},
   "outputs": [],
   "source": [
    "fig = plt.figure(figsize=(10,6)) \n",
    "ax = fig.add_subplot(111) \n",
    "\n",
    "for i in range(1,7):\n",
    "    x = np.linspace(-1,1,100)\n",
    "    y = np.power(x,i)\n",
    "    ax.plot(x,y,label='$y=x^' + str(i) + '$')\n",
    "    # Here we are using LaTeX to format an equation, this is denoted by the \n",
    "    # dollar signs and explained later.\n",
    "    \n",
    "ax.set_title('Family of First 6 Polynomials')\n",
    "ax.set_xlabel('$x$')\n",
    "ax.set_ylabel('$y$')\n",
    "ax.grid(True, axis='both')\n",
    "ax.legend(ncol=3, fancybox=True)\n",
    "plt.show()"
   ]
  },
  {
   "cell_type": "markdown",
   "metadata": {},
   "source": [
    "# 2. Markdown\n",
    "Text can be added to Jupyter Notebooks by clicking on a cell and selecting 'Markdown' from the drop-down list in the centre of the toolbar.\n",
    "Doubling clicking on a Markdown cell allows you to inspect the plain text.\n",
    "\n",
    "A summary of the use of Markdown in notebooks may be found on [Markdown Cells](http://jupyter-notebook.readthedocs.io/en/latest/examples/Notebook/Working%20With%20Markdown%20Cells.html) page of the Jupyter Notebook documentation."
   ]
  },
  {
   "cell_type": "code",
   "execution_count": null,
   "metadata": {
    "collapsed": true
   },
   "outputs": [],
   "source": [
    "#### Designate this cell for Markdown and run it to display this text."
   ]
  },
  {
   "cell_type": "markdown",
   "metadata": {},
   "source": [
    "### Headers\n",
    "You can add a heading by beginning a line with one or more hash characters (#) followed by a space. There are six tiers of headers, according to the number of hashes."
   ]
  },
  {
   "cell_type": "markdown",
   "metadata": {},
   "source": [
    "### Emphasis\n",
    "To produce italics or bold typeface, surround text with *single* or **double** asterisks or underscores. Three such characters for both __bold italics.__"
   ]
  },
  {
   "cell_type": "markdown",
   "metadata": {},
   "source": [
    "### Embedded Code\n",
    "Code may be shown inline using single backticks; `print('Hello World')`.\n",
    "\n",
    "For longer blocks of code, use monospace code blocks. These are designated by triple backticks. To enable syntax highlighting type the programming language (python) after the opening triple backticks:\n",
    "```python\n",
    "def example_function():\n",
    "    \"\"\"Display code for illustrative purposes\"\"\"\n",
    "    pass\n",
    "```\n",
    "\n",
    "Note: If you wish to display characters such as the backtick (\\`), asterisk (\\*) or (\\_), they must be escaped using a backslash (\\\\)."
   ]
  },
  {
   "cell_type": "markdown",
   "metadata": {},
   "source": [
    "### Links\n",
    "You may add hyperlinks inline using `[Link display text](URL \"Tooltip\")`, where `Tooltip` is an optional description displayed when the cursor is hovered over the link. Internal links to any header within the document are also possible with `[Link display text](#Header \"Tooltip\")`, where `Header` is the header you wish to link to. For example, here is a link to the [plotting subsection](#Plotting \"Take me to the plotting subsection\")."
   ]
  },
  {
   "cell_type": "markdown",
   "metadata": {},
   "source": [
    "### Tables\n",
    "Simple tables may be constructed using a mix of pipes and hyphens:\n",
    "\n",
    "|Pupil|Height|Exam Score|\n",
    "|:----|------|:--------:|\n",
    "|Markdown|152|72|\n",
    "|Jupyter|180|93|\n",
    "Notice the colons in the line below the headers. These are optional and specify the column's justification."
   ]
  },
  {
   "cell_type": "markdown",
   "metadata": {},
   "source": [
    "### Lists\n",
    "Use a single asterisk to create a bulleted list: \n",
    "* Unordered items\n",
    "- Use bullets, pluses or minuses\n",
    "\n",
    "Or numbers to created a numbered one: \n",
    "1. First item\n",
    "2. Second item\n",
    "\n",
    "Nested lists are also possible, requiring an indent of exactly four spaces:\n",
    "1. First item:\n",
    "    - Sub item\n",
    "    - Another sub item\n",
    "2. Second item\n",
    "    - Four spaces are required"
   ]
  },
  {
   "cell_type": "markdown",
   "metadata": {},
   "source": [
    "### LaTeX Equations\n",
    "LaTeX is a markup language used commonly by scientists. It is very powerful and enables printing high quality equations and images. You will be expected to use this in your third year. For now, you can use LaTeX syntax in a jupyter notebook to generate equations.\n",
    "\n",
    "Use single dollar signs for inline expressions such as $E=mc^2$ and double dollar signs for displayed expressions:\n",
    "$$\\int_{-\\infty}^{\\infty}e^{-x^2} = \\pi$$\n",
    "\n",
    "You can also use LaTeX in your plots, this line was used earlier:\n",
    "```python\n",
    "label='$y=x^' + str(i) + '$'\n",
    "```\n",
    "Here we generate a string (denated by the single qoutes), then we enter _math mode_ in LaTeX, denoted by the dollar sign, then we can print our equation, close _math mode_ and close the string."
   ]
  },
  {
   "cell_type": "markdown",
   "metadata": {},
   "source": [
    "### Line breaks\n",
    "A single blank line generates a line break in the text.\n",
    "\n",
    "In order to start a new line without a line break, you must end a line with two or more spaces.  \n",
    "(There are two spaces at the end of the line above).\n",
    "\n",
    "Without this\n",
    "    a new line will not be created, \n",
    "    since additional whitespace is ignored \n",
    "    in Markdown (inspect this text).\n",
    "    \n",
    "    \n",
    "    \n",
    "    "
   ]
  },
  {
   "cell_type": "markdown",
   "metadata": {},
   "source": [
    "### Ruling\n",
    "A horizontal ruling may generated by placing 3 or more hyphens, asterisks, or underscores on a single line:\n",
    "___\n",
    "This can be used to create a space for small additional notes to your Markdown cell.\n"
   ]
  }
 ],
 "metadata": {
  "kernelspec": {
   "name": "python392jvsc74a57bd034ea34a95fc8c860ea654946bc3d2ac20d836af5fba6f8cd5c2350e7aac8e38e",
   "display_name": "Python 3.9.2 64-bit ('copter': conda)"
  },
  "language_info": {
   "codemirror_mode": {
    "name": "ipython",
    "version": 3
   },
   "file_extension": ".py",
   "mimetype": "text/x-python",
   "name": "python",
   "nbconvert_exporter": "python",
   "pygments_lexer": "ipython3",
   "version": "3.9.2"
  }
 },
 "nbformat": 4,
 "nbformat_minor": 2
}